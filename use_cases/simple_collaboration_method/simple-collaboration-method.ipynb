{
 "cells": [
  {
   "cell_type": "markdown",
   "id": "2f52e5bf",
   "metadata": {},
   "source": [
    "# Simple Collaboration Method\n",
    "\n",
    "In this beginner's tutorial, we'll walk through creating a simple GenWorld from scratch. By the end, you'll have a basic understanding of how GenWorlds operates, setting the stage for more advanced use cases.\n",
    "\n",
    "## Scenario Overview:\n",
    "\n",
    "Imagine a world where two agents, \"John\" and \"Matthew\", work in tandem. John receives a request from a user to generate a random matrix and determine its determinant. John then uses a tool to craft this matrix, which he sends over to Matthew. Matthew, equipped with a different tool, calculates the determinant of the matrix John created. After doing so, Matthew sends back the result to John, who then delivers the original matrix and the determinant value to the user.\n",
    "\n",
    "While this might sound like overkill for a simple task (since the LLM could probably do this in one go), the purpose is to demonstrate how different components of GenWorlds can interact.\n",
    "\n",
    "## Step 1: Initial Set Up\n",
    "\n",
    "Before diving into our world, we need a few basic utilities and configurations."
   ]
  },
  {
   "cell_type": "code",
   "execution_count": null,
   "id": "4ea736da",
   "metadata": {},
   "outputs": [],
   "source": [
    "from datetime import datetime\n",
    "import threading\n",
    "from typing import List\n",
    "from time import sleep\n",
    "import os\n",
    "from dotenv import load_dotenv\n",
    "load_dotenv()\n",
    "openai_api_key = os.environ.get(\"OPENAI_API_KEY\")"
   ]
  },
  {
   "cell_type": "markdown",
   "id": "e5f7f446",
   "metadata": {},
   "source": [
    "## Step 2: Crafting the World\n",
    "\n",
    "Our world, named \"Compute Matrix Determinant World\", will initially be empty. We'll then populate it with agents and objects in subsequent steps."
   ]
  },
  {
   "cell_type": "code",
   "execution_count": null,
   "id": "894dd533",
   "metadata": {},
   "outputs": [],
   "source": [
    "from genworlds.worlds.concrete.base.world import BaseWorld\n",
    "\n",
    "# Define the World\n",
    "CMD_world = BaseWorld(\n",
    "    name=\"Compute Matrix Determinant World\",\n",
    "    description=\"A world where two agents interact to generate a matrix and compute its determinant.\",\n",
    ")\n",
    "CMD_world.launch()"
   ]
  },
  {
   "cell_type": "markdown",
   "id": "efb0611a",
   "metadata": {},
   "source": [
    "You can configure cell below to try different models of the OpenAI API. If there is a new release that is not supported, maybe you can fix it upgrading langchain to the last version."
   ]
  },
  {
   "cell_type": "code",
   "execution_count": null,
   "id": "b5b5800b",
   "metadata": {},
   "outputs": [],
   "source": [
    "gpt3=True\n",
    "if gpt3:\n",
    "    model_to_test=\"gpt-3.5-turbo-1106\" \n",
    "else:\n",
    "    model_to_test=\"gpt-4-1106-preview\""
   ]
  },
  {
   "cell_type": "markdown",
   "id": "061c59dd",
   "metadata": {},
   "source": [
    "## Step 4: Introducing the Matrix Generator\n",
    "\n",
    "To generate matrices, we'll use an object called `MatrixGenerator`. This object will listen to agents' requests to craft matrices and respond accordingly."
   ]
  },
  {
   "cell_type": "code",
   "execution_count": null,
   "id": "ccb60a75",
   "metadata": {},
   "outputs": [],
   "source": [
    "from genworlds.objects.abstracts.object import AbstractObject\n",
    "from genworlds.events.abstracts.event import AbstractEvent\n",
    "from genworlds.events.abstracts.action import AbstractAction\n",
    "\n",
    "# Create two events and one action\n",
    "# Event that the agent will use to generate a matrix\n",
    "class AgentGeneratesNxNMatrixEvent(AbstractEvent):\n",
    "    event_type = \"agent_generates_n_by_n_matrix_event\"\n",
    "    description = \"An agent generates a squared matrix of size N of integer numbers. The target_id of this event is the matrix generator object.\"\n",
    "    N: int\n",
    "\n",
    "# Event that the MatrixGenerator Object will use to give the requested matrix to the agent\n",
    "class SendGeneratedMatrixEvent(AbstractEvent):\n",
    "    event_type = \"send_generated_matrix_event\"\n",
    "    description = \"Sends the requested squared matrix of size N of integer numbers to the agent\"\n",
    "    matrix: List[List[int]]\n",
    "        \n",
    "class GenerateSquaredMatrix(AbstractAction):\n",
    "    trigger_event_class = AgentGeneratesNxNMatrixEvent\n",
    "    description = \"Generates squared matrices of size N.\"\n",
    "    \n",
    "    def __init__(self, host_object: AbstractObject):\n",
    "        self.host_object = host_object\n",
    "    \n",
    "    def __call__(self, event:AgentGeneratesNxNMatrixEvent):\n",
    "        import numpy as np\n",
    "        N = event.N\n",
    "        matrix = np.random.randint(100, size=(N, N))\n",
    "        event = SendGeneratedMatrixEvent(\n",
    "            sender_id=self.host_object.id,\n",
    "            target_id=event.sender_id,\n",
    "            matrix = matrix.tolist(),\n",
    "        \n",
    "        )\n",
    "        self.host_object.send_event(event)\n",
    "\n",
    "# Define the MatrixGenerator Object\n",
    "class MatrixGenerator(AbstractObject):\n",
    "    def __init__(self, id:str):\n",
    "        actions = [GenerateSquaredMatrix(host_object=self)]\n",
    "        super().__init__(name=\"Matrix Generator\", \n",
    "                         id=id, \n",
    "                         description=\"Object used to random integer squared matrices.\", \n",
    "                         actions=actions\n",
    "                         )\n",
    "\n",
    "# Instantiate the MatrixGenerator Object\n",
    "matrix_generator = MatrixGenerator(id=\"matrix_generator\")\n",
    "\n",
    "# Incorporate the Matrix Generator into the Simulation\n",
    "CMD_world.add_object(matrix_generator)"
   ]
  },
  {
   "cell_type": "markdown",
   "id": "53574f07",
   "metadata": {},
   "source": [
    "## Testing without Agents\n",
    "\n",
    "This is the easiest way to test the new actions or events that you build into objects. Because testing directly without the agent is faster, and you don't depend on the non-deterministic choice of the next action, which can potentially fail."
   ]
  },
  {
   "cell_type": "code",
   "execution_count": null,
   "id": "c3c33b24",
   "metadata": {},
   "outputs": [],
   "source": [
    "from genworlds.utils.test_user import TestUser\n",
    "\n",
    "# Create a Testing User\n",
    "test_user = TestUser()"
   ]
  },
  {
   "cell_type": "code",
   "execution_count": null,
   "id": "3d15ded0",
   "metadata": {},
   "outputs": [],
   "source": [
    "message_to_send = AgentGeneratesNxNMatrixEvent(\n",
    "    sender_id=test_user.id,\n",
    "    target_id=\"matrix_generator\",\n",
    "    N=10\n",
    ").json()\n",
    "\n",
    "test_user.socket_client.send_message(message_to_send)"
   ]
  },
  {
   "cell_type": "markdown",
   "id": "d67109b5",
   "metadata": {},
   "source": [
    "## Step 5: Basic Assistant\n",
    "Now we are going to instantiate and attach `John` to the World, which is a `BasicAssistant`. That means that it does not have any specific thought a part from those included in the `think_n_do` loop which is mainly selecting the next action to execute, and fill its triggering event.\n",
    "\n",
    "When it has nothing to do then waits for a `wakeup_event` to start back again."
   ]
  },
  {
   "cell_type": "code",
   "execution_count": null,
   "id": "61ce1e7d",
   "metadata": {
    "scrolled": false
   },
   "outputs": [],
   "source": [
    "from genworlds.agents.concrete.basic_assistant.utils import generate_basic_assistant\n",
    "from genworlds.worlds.concrete.base.actions import UserSpeaksWithAgentEvent\n",
    "from genworlds.agents.concrete.basic_assistant.actions import AgentSpeaksWithAgentEvent\n",
    "\n",
    "\n",
    "agent_name = \"John\"\n",
    "description = \"\"\"Agent that helps the user generate random matrices. Can talk to other agents to ask for information.\"\"\"\n",
    "\n",
    "# Generate a Dummy Agent named John\n",
    "john = generate_basic_assistant(\n",
    "    agent_name=agent_name, \n",
    "    description=description,\n",
    "    openai_api_key=openai_api_key,\n",
    "    model_name=model_to_test\n",
    ")\n",
    "\n",
    "john.add_wakeup_event(event_class=UserSpeaksWithAgentEvent)\n",
    "john.add_wakeup_event(event_class=AgentSpeaksWithAgentEvent)\n",
    "\n",
    "## Attach John to the Simulation\n",
    "CMD_world.add_agent(john)"
   ]
  },
  {
   "cell_type": "markdown",
   "id": "c90d0ad0",
   "metadata": {},
   "source": [
    "## Step 6: Simulating User Interaction with the Agent\n",
    "\n",
    "In this step, we'll demonstrate how to simulate user interaction with the agent in the simulation environment. The objective is to have a pseudo-user send a request to our dummy agent \"John\", asking him to perform specific tasks. This helps in understanding the dynamics of agent-user communication and to observe how the agent reacts and processes user's requests."
   ]
  },
  {
   "cell_type": "code",
   "execution_count": null,
   "id": "8c9357f6",
   "metadata": {
    "scrolled": false
   },
   "outputs": [],
   "source": [
    "from genworlds.worlds.concrete.base.actions import UserSpeaksWithAgentEvent\n",
    "\n",
    "# Format the message that will be sent to the simulation socket\n",
    "test_msg = \"Hey John, generate a 4x4 matrix and send it to me please!\"\n",
    "message_to_send = UserSpeaksWithAgentEvent(\n",
    "    sender_id=test_user.id,\n",
    "    message=test_msg, \n",
    "    target_id=\"John\"\n",
    ").json()\n",
    "\n",
    "# Send the message to John\n",
    "test_user.socket_client.send_message(message_to_send)"
   ]
  },
  {
   "cell_type": "markdown",
   "id": "6dd287f0",
   "metadata": {},
   "source": [
    "## Step 7: Integrating a Determinant Calculator into the Simulation\n",
    "\n",
    "In this step, we will introduce an object into our simulation environment that agents can utilize to compute the determinant of matrices. This serves as a representation of how tools and utilities can be made available to agents, enhancing their capabilities."
   ]
  },
  {
   "cell_type": "code",
   "execution_count": null,
   "id": "601b4b40",
   "metadata": {},
   "outputs": [],
   "source": [
    "from genworlds.objects.abstracts.object import AbstractObject\n",
    "from genworlds.events.abstracts.event import AbstractEvent\n",
    "from genworlds.events.abstracts.action import AbstractAction\n",
    "\n",
    "# Event that the agent will use to compute the determinant of a given matrix\n",
    "class AgentComputesDeterminant(AbstractEvent):\n",
    "    event_type = \"agent_computes_determinant\"\n",
    "    description = \"An agent computes the determinant of a matrix\"\n",
    "    matrix: List[List[int]]\n",
    "\n",
    "# Event that the DetCalculator Object will use to give the requested determinant to the agent\n",
    "class SendMatrixDeterminant(AbstractEvent):\n",
    "    event_type = \"send_matrix_determinant\"\n",
    "    description = \"Sends the requested determinant of the matrix to the agent\"\n",
    "    determinant: int\n",
    "        \n",
    "class ComputeDeterminant(AbstractAction):\n",
    "    trigger_event_class = AgentGeneratesNxNMatrixEvent\n",
    "    description = \"Generates squared matrices of size N.\"\n",
    "    \n",
    "    def __init__(self, host_object: AbstractObject):\n",
    "        self.host_object = host_object\n",
    "    \n",
    "    def __call__(self, event: AgentComputesDeterminant):\n",
    "        import numpy as np\n",
    "        determinant = np.linalg.det(np.array(event.matrix))\n",
    "        event = SendMatrixDeterminant(\n",
    "            sender_id=self.host_object.id,\n",
    "            target_id=event.sender_id,\n",
    "            determinant = determinant,\n",
    "        )\n",
    "        self.host_object.send_event(event)\n",
    "\n",
    "# Define the DetCalculator Object\n",
    "class DetCalculator(AbstractObject):\n",
    "    def __init__(self, id:str):\n",
    "        actions = [ComputeDeterminant(host_object=self)]\n",
    "        super().__init__(name=\"Determinant Calculator\", \n",
    "                         id=id, \n",
    "                         description=\"Object used to compute determinants of squared matrices.\", \n",
    "                         actions=actions\n",
    "                         )\n",
    "\n",
    "# Instantiate the DetCalculator Object\n",
    "det_calculator = DetCalculator(id=\"det_calculator\")\n",
    "\n",
    "# Incorporate the Determinant Calculator into the World\n",
    "CMD_world.add_object(det_calculator)"
   ]
  },
  {
   "cell_type": "markdown",
   "id": "6fd7bc79",
   "metadata": {},
   "source": [
    "## Step 8: Introducing Another Agent and Requesting World State Updates\n",
    "In this step, we will be adding a second agent, \"Matthew\", to our simulation. Both John and Matthew will then request updates on the world state, allowing them to become aware of each other and other changes in the simulation environment."
   ]
  },
  {
   "cell_type": "code",
   "execution_count": null,
   "id": "f750666d",
   "metadata": {
    "scrolled": false
   },
   "outputs": [],
   "source": [
    "from genworlds.agents.concrete.basic_assistant.utils import generate_basic_assistant\n",
    "from genworlds.worlds.concrete.base.actions import UserSpeaksWithAgentEvent\n",
    "from genworlds.agents.concrete.basic_assistant.actions import AgentSpeaksWithAgentEvent\n",
    "\n",
    "agent_name = \"Matthew\"\n",
    "description = \"\"\"Agent that helps to compute determinants of matrices. Can talk to other agents to ask for information.\"\"\"\n",
    "\n",
    "# Generate a Dummy Agent named John\n",
    "matthew = generate_basic_assistant(\n",
    "    agent_name=agent_name, \n",
    "    description=description,\n",
    "    openai_api_key=openai_api_key,\n",
    "    model_name=model_to_test\n",
    ")\n",
    "\n",
    "matthew.add_wakeup_event(event_class=UserSpeaksWithAgentEvent)\n",
    "matthew.add_wakeup_event(event_class=AgentSpeaksWithAgentEvent)\n",
    "\n",
    "\n",
    "## Attach DCPI to the Simulation\n",
    "CMD_world.add_agent(matthew)"
   ]
  },
  {
   "cell_type": "markdown",
   "id": "7e4bc549",
   "metadata": {},
   "source": [
    "## Step 9: Final Collaborative Test between Agents\n",
    "\n",
    "In the final step of this tutorial, we're putting everything together to demonstrate how agents can collaborate in the simulation world. We'll instruct John to generate a 3x3 matrix, have its determinant computed by Matthew, and then relay the matrix and its determinant back to us, the user."
   ]
  },
  {
   "cell_type": "code",
   "execution_count": null,
   "id": "0542e77b",
   "metadata": {
    "scrolled": false
   },
   "outputs": [],
   "source": [
    "test_msg = \"\"\"Hey John, \n",
    "generate a matrix 3x3, \n",
    "send it to Matthew (which is an agent) to compute its determinant, \n",
    "and when he replies back to you, tell me the matrix and its determinant. \n",
    "While you wait for Matthew to send you the response, you can go to sleep.\"\"\"\n",
    "\n",
    "message_to_send = UserSpeaksWithAgentEvent(\n",
    "    sender_id=test_user.id,\n",
    "    message=test_msg, \n",
    "    target_id=\"John\"\n",
    ").json()\n",
    "\n",
    "# Send the message to John\n",
    "test_user.socket_client.send_message(message_to_send)"
   ]
  },
  {
   "cell_type": "markdown",
   "id": "62ee4cd6",
   "metadata": {},
   "source": [
    "## Conclusions\n",
    "\n",
    "Congratulations on reaching the end of this tutorial on simulating agent collaboration in the GenWorlds environment! \n",
    "\n",
    "Let's reflect on what we've accomplished and what we've learned:\n",
    "\n",
    "### Key Takeaways:\n",
    "1. **Basics of the GenWorlds Framework:**\n",
    "    - We began with a solid foundation, introducing the core components and functionalities of the GenWorlds simulation framework. This framework is powerful and flexible, enabling the creation and management of complex agent-driven worlds.\n",
    "2. **Creation of Dummy Agents:**\n",
    "    - We went through the process of creating basic, dummy agents and setting up their attributes. This gave us a hands-on understanding of agent attributes like name, role, background, and their thought processes like custom thoughts and thought actions.\n",
    "3. **User-Agent Interaction:**\n",
    "    - We designed a Fake User to simulate real-world interactions between users and agents in the environment. This user-agent interaction plays a crucial role in instructing agents and receiving feedback from them.\n",
    "4. **Defining Custom Events & Objects:**\n",
    "    - Our tutorial introduced the concept of custom events, allowing us to define specific actions like matrix determinant computation. We also learned about objects in the simulation, such as our \"Determinant Calculator.\"\n",
    "5. **Inter-Agent Collaboration:**\n",
    "    - One of the highlights was demonstrating how agents can collaborate. We instructed John to create a matrix, which was then processed by Matthew, showcasing the potential for multi-agent workflows.\n",
    "\n",
    "### Further Exploration:\n",
    "While we've covered a lot, the GenWorlds environment offers even more to explore:\n",
    "- **Complex Agent Behaviors:** Our tutorial focused on basic, dummy agents. Delve deeper into the framework to create agents with intricate behaviors, decision-making processes, and reactions to diverse events.\n",
    "- **Expand the World:** Introduce more objects, locations, and complexities to your simulation. Imagine scenarios like agents navigating through a maze or collaborating to solve puzzles.\n",
    "- **Real-time Analytics:** With multiple agents and complex events, the simulation can produce vast amounts of data. Dive into analyzing this data to gain insights into agent behaviors, interactions, and more.\n",
    "\n",
    "### Wrapping Up:\n",
    "Agent-based simulations like GenWorlds are powerful tools for modeling complex systems and interactions. They offer insights into multi-agent behaviors, decision-making processes, and collaborative efforts. By mastering these simulations, you'll be equipped to tackle intricate problems, design intelligent systems, and model real-world scenarios with confidence.\n",
    "\n",
    "Thank you for journeying through this tutorial with us. We hope it has sparked your interest in exploring the vast possibilities of agent-based simulations further!"
   ]
  },
  {
   "cell_type": "code",
   "execution_count": null,
   "id": "98dee963",
   "metadata": {},
   "outputs": [],
   "source": []
  }
 ],
 "metadata": {
  "kernelspec": {
   "display_name": "Python 3 (ipykernel)",
   "language": "python",
   "name": "python3"
  },
  "language_info": {
   "codemirror_mode": {
    "name": "ipython",
    "version": 3
   },
   "file_extension": ".py",
   "mimetype": "text/x-python",
   "name": "python",
   "nbconvert_exporter": "python",
   "pygments_lexer": "ipython3",
   "version": "3.11.5"
  }
 },
 "nbformat": 4,
 "nbformat_minor": 5
}
